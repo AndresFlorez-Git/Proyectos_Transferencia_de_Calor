{
 "cells": [
  {
   "cell_type": "code",
   "execution_count": null,
   "metadata": {},
   "outputs": [],
   "source": [
    "import numpy as np\n",
    "import matplotlib.pyplot as plt\n",
    "\n",
    "# Sección de parámetros de entrada\n",
    "B0 = 10\n",
    "Bn = 10\n",
    "L = 10\n",
    "l = 0.5\n",
    "b = 0.5\n",
    "hk = 0.5  # Parámetro h/k\n",
    "theta0 = 10\n",
    "thetan = 10\n",
    "\n",
    "N = 200   # Número de nodos\n",
    "x = np.linspace(0,L,N)\n",
    "\n",
    "# función que modela el sistema \n",
    "\n"
   ]
  }
 ],
 "metadata": {
  "kernelspec": {
   "display_name": "Python 3",
   "language": "python",
   "name": "python3"
  },
  "language_info": {
   "codemirror_mode": {
    "name": "ipython",
    "version": 3
   },
   "file_extension": ".py",
   "mimetype": "text/x-python",
   "name": "python",
   "nbconvert_exporter": "python",
   "pygments_lexer": "ipython3",
   "version": "3.7.3"
  }
 },
 "nbformat": 4,
 "nbformat_minor": 2
}
