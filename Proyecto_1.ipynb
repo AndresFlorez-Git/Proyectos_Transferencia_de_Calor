{
 "cells": [
  {
   "cell_type": "code",
   "execution_count": 2,
   "metadata": {},
   "outputs": [],
   "source": [
    "import numpy as np\n",
    "import matplotlib.pyplot as plt\n",
    "\n",
    "#######################################\n",
    "\n",
    "# Sección de parámetros de entrada\n",
    "B0 = 10.0\n",
    "Bn = 10.0\n",
    "L = 10.0\n",
    "l = 0.5\n",
    "b = 0.5\n",
    "hk = 0.5  # Parámetro h/k\n",
    "theta0 = 10.0\n",
    "thetan = 10.0\n",
    "\n",
    "########################################\n",
    "N = 200   # Número de nodos\n",
    "\n",
    "\n",
    "def B(B0,Bn,b,L,N):\n",
    "    x = np.linspace(0,L,N)\n",
    "    funcion = np.zeros(len(x))\n",
    "    funcion[np.where(x<=L/3)]=1\n",
    "    \n",
    "   # funcion = 2*x**2 +2  \n",
    "    if (min(funcion) != b/2) or funcion[0] != B0 or funcion[N-1] != Bn:\n",
    "        print('Función No valida')\n",
    "        return 0\n",
    "    return x,funcion\n",
    "\n",
    "\n",
    "\n",
    "    \n"
   ]
  },
  {
   "cell_type": "code",
   "execution_count": 15,
   "metadata": {},
   "outputs": [
    {
     "name": "stdout",
     "output_type": "stream",
     "text": [
      "66.66666666666667\n"
     ]
    },
    {
     "data": {
      "text/plain": [
       "[<matplotlib.lines.Line2D at 0x7f720215e7b8>]"
      ]
     },
     "execution_count": 15,
     "metadata": {},
     "output_type": "execute_result"
    },
    {
     "data": {
      "image/png": "[encoded data removed]",
      "text/plain": [
       "<Figure size 432x288 with 1 Axes>"
      ]
     },
     "metadata": {
      "needs_background": "light"
     },
     "output_type": "display_data"
    }
   ],
   "source": [
    "\n",
    "def c(x):\n",
    "    funcion = np.zeros(len(x))\n",
    "    print((len(x)/3))\n",
    "    funcion[np.where(x>5)] = 1\n",
    "    \n",
    "    return funcion\n",
    "plt.figure(1)\n",
    "plt.plot(x,c(x))"
   ]
  },
  {
   "cell_type": "code",
   "execution_count": null,
   "metadata": {},
   "outputs": [],
   "source": []
  }
 ],
 "metadata": {
  "kernelspec": {
   "display_name": "Python 3",
   "language": "python",
   "name": "python3"
  },
  "language_info": {
   "codemirror_mode": {
    "name": "ipython",
    "version": 3
   },
   "file_extension": ".py",
   "mimetype": "text/x-python",
   "name": "python",
   "nbconvert_exporter": "python",
   "pygments_lexer": "ipython3",
   "version": "3.7.3"
  }
 },
 "nbformat": 4,
 "nbformat_minor": 2
}
